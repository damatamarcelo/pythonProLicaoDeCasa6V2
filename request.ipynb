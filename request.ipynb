{
 "cells": [
  {
   "cell_type": "code",
   "execution_count": 1,
   "id": "97df5d53-19cc-441c-8ebc-30fa9a68a1c3",
   "metadata": {},
   "outputs": [],
   "source": [
    "from requests import get, post"
   ]
  },
  {
   "cell_type": "code",
   "execution_count": 2,
   "id": "20ec02e2-e934-4e46-b94d-16fb38c007c0",
   "metadata": {},
   "outputs": [],
   "source": [
    "url_get = \"http://localhost:8000\"\n",
    "url_post = \"http://localhost:8000/math\"\n",
    "url_docs = \"http://localhost:8000/docs\""
   ]
  },
  {
   "cell_type": "code",
   "execution_count": 3,
   "id": "62151f6b-e810-4dc5-8a0b-69aa15654646",
   "metadata": {},
   "outputs": [
    {
     "name": "stdout",
     "output_type": "stream",
     "text": [
      "True\n",
      "{\"mensagem\":\"Bem vindo a api de operações básicas, cheque a documentação e o método POST: math!\"}\n"
     ]
    }
   ],
   "source": [
    "resp_get = get(url_get)\n",
    "\n",
    "print(resp_get.ok)\n",
    "print(resp_get.text)"
   ]
  },
  {
   "cell_type": "code",
   "execution_count": 6,
   "id": "e3fef65c-0fdc-4bcd-9376-18a9b1d26194",
   "metadata": {},
   "outputs": [
    {
     "data": {
      "text/plain": [
       "'{\"Soma\":50}'"
      ]
     },
     "execution_count": 6,
     "metadata": {},
     "output_type": "execute_result"
    }
   ],
   "source": [
    "req_sm = post(url_post, json={\"valor1\": 30, \"valor2\": 20, \"oper\": \"+\"})\n",
    "req_sm.text"
   ]
  },
  {
   "cell_type": "code",
   "execution_count": 9,
   "id": "86af9405-c7b8-4798-949e-bc49c68e9b9b",
   "metadata": {},
   "outputs": [
    {
     "data": {
      "text/plain": [
       "'{\"Subtração\":80}'"
      ]
     },
     "execution_count": 9,
     "metadata": {},
     "output_type": "execute_result"
    }
   ],
   "source": [
    "req_sb = post(url_post, json={\"valor1\": 130, \"valor2\": 50, \"oper\": \"-\"})\n",
    "req_sb.text"
   ]
  },
  {
   "cell_type": "code",
   "execution_count": 10,
   "id": "17b10123-d6f4-49cb-8968-dd854e31fffe",
   "metadata": {},
   "outputs": [
    {
     "data": {
      "text/plain": [
       "'{\"Multiplicação\":15000}'"
      ]
     },
     "execution_count": 10,
     "metadata": {},
     "output_type": "execute_result"
    }
   ],
   "source": [
    "req_mt = post(url_post, json={\"valor1\": 600, \"valor2\": 25, \"oper\": \"x\"})\n",
    "req_mt.text"
   ]
  },
  {
   "cell_type": "code",
   "execution_count": 11,
   "id": "e260de6d-3637-4971-9a81-a6e56048e65e",
   "metadata": {},
   "outputs": [
    {
     "data": {
      "text/plain": [
       "'{\"Divisão\":40.0}'"
      ]
     },
     "execution_count": 11,
     "metadata": {},
     "output_type": "execute_result"
    }
   ],
   "source": [
    "req_dv = post(url_post, json={\"valor1\": 200, \"valor2\": 5, \"oper\": \":\"})\n",
    "req_dv.text"
   ]
  },
  {
   "cell_type": "code",
   "execution_count": 12,
   "id": "48de8fdd-816b-48a4-b5a5-8357c19712a0",
   "metadata": {},
   "outputs": [
    {
     "data": {
      "text/plain": [
       "'[\"Insira um valor válido, ou acesse \\'http://localhost:8000/docs\\' para acessar a documentação da api\"]'"
      ]
     },
     "execution_count": 12,
     "metadata": {},
     "output_type": "execute_result"
    }
   ],
   "source": [
    "req_exc = post(url_post, json={\"valor1\": 20, \"valor2\": 5, \"oper\": \"v\"})\n",
    "req_exc.text"
   ]
  },
  {
   "cell_type": "code",
   "execution_count": null,
   "id": "c4a087a7-1859-4896-be7f-5cac48a08063",
   "metadata": {},
   "outputs": [],
   "source": []
  }
 ],
 "metadata": {
  "kernelspec": {
   "display_name": "Python 3 (ipykernel)",
   "language": "python",
   "name": "python3"
  },
  "language_info": {
   "codemirror_mode": {
    "name": "ipython",
    "version": 3
   },
   "file_extension": ".py",
   "mimetype": "text/x-python",
   "name": "python",
   "nbconvert_exporter": "python",
   "pygments_lexer": "ipython3",
   "version": "3.9.12"
  }
 },
 "nbformat": 4,
 "nbformat_minor": 5
}
